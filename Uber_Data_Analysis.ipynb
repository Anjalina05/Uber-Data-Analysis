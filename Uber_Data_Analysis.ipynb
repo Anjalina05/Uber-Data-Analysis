{
  "nbformat": 4,
  "nbformat_minor": 0,
  "metadata": {
    "colab": {
      "name": "Uber Data Analysis.ipynb",
      "provenance": []
    },
    "kernelspec": {
      "name": "python3",
      "display_name": "Python 3"
    },
    "language_info": {
      "name": "python"
    }
  },
  "cells": [
    {
      "cell_type": "code",
      "metadata": {
        "id": "8SR2MU1GmP77"
      },
      "source": [
        "import pandas as pd\n",
        "from sklearn.linear_model import LinearRegression\n",
        "import pandas as pd\n",
        "import matplotlib.pyplot as plt\n",
        "import numpy as np\n",
        "import seaborn as sns\n",
        "import itertools\n",
        "import gc\n",
        "import os\n",
        "import sys\n",
        "%matplotlib inline"
      ],
      "execution_count": null,
      "outputs": []
    },
    {
      "cell_type": "code",
      "metadata": {
        "id": "-PJPt8yCxoHq"
      },
      "source": [
        ""
      ],
      "execution_count": null,
      "outputs": []
    },
    {
      "cell_type": "code",
      "metadata": {
        "colab": {
          "base_uri": "https://localhost:8080/"
        },
        "id": "edWsh9ebmc9n",
        "outputId": "c11e8891-bb43-40d5-84b5-f24948c5d473"
      },
      "source": [
        "!wget https://www.dropbox.com/s/ncqb2ctkg7da11k/weather.csv"
      ],
      "execution_count": null,
      "outputs": [
        {
          "output_type": "stream",
          "text": [
            "--2021-05-08 12:40:36--  https://www.dropbox.com/s/ncqb2ctkg7da11k/weather.csv\n",
            "Resolving www.dropbox.com (www.dropbox.com)... 162.125.5.18, 2620:100:601d:18::a27d:512\n",
            "Connecting to www.dropbox.com (www.dropbox.com)|162.125.5.18|:443... connected.\n",
            "HTTP request sent, awaiting response... 301 Moved Permanently\n",
            "Location: /s/raw/ncqb2ctkg7da11k/weather.csv [following]\n",
            "--2021-05-08 12:40:36--  https://www.dropbox.com/s/raw/ncqb2ctkg7da11k/weather.csv\n",
            "Reusing existing connection to www.dropbox.com:443.\n",
            "HTTP request sent, awaiting response... 302 Found\n",
            "Location: https://uc15f3ec23573bceef138faee4de.dl.dropboxusercontent.com/cd/0/inline/BOFy6MoLBgbrLuPpWFr4hcpq-IMEhAAvjVMQwn0ukSoKBDY8IiEq-3DOGH-1DIC53_6E2K8cRylibar2R-SAIbG-y3fa2LSPWFxD2Pj_wR6mck93Sf66mqwhqv9dgie7Br5w7kxHN9MTkp102rJTCU83/file# [following]\n",
            "--2021-05-08 12:40:37--  https://uc15f3ec23573bceef138faee4de.dl.dropboxusercontent.com/cd/0/inline/BOFy6MoLBgbrLuPpWFr4hcpq-IMEhAAvjVMQwn0ukSoKBDY8IiEq-3DOGH-1DIC53_6E2K8cRylibar2R-SAIbG-y3fa2LSPWFxD2Pj_wR6mck93Sf66mqwhqv9dgie7Br5w7kxHN9MTkp102rJTCU83/file\n",
            "Resolving uc15f3ec23573bceef138faee4de.dl.dropboxusercontent.com (uc15f3ec23573bceef138faee4de.dl.dropboxusercontent.com)... 162.125.5.15, 2620:100:601d:15::a27d:50f\n",
            "Connecting to uc15f3ec23573bceef138faee4de.dl.dropboxusercontent.com (uc15f3ec23573bceef138faee4de.dl.dropboxusercontent.com)|162.125.5.15|:443... connected.\n",
            "HTTP request sent, awaiting response... 200 OK\n",
            "Length: 349993 (342K) [text/plain]\n",
            "Saving to: ‘weather.csv.1’\n",
            "\n",
            "weather.csv.1       100%[===================>] 341.79K  --.-KB/s    in 0.1s    \n",
            "\n",
            "2021-05-08 12:40:37 (3.20 MB/s) - ‘weather.csv.1’ saved [349993/349993]\n",
            "\n"
          ],
          "name": "stdout"
        }
      ]
    },
    {
      "cell_type": "code",
      "metadata": {
        "colab": {
          "base_uri": "https://localhost:8080/"
        },
        "id": "Hk-ToAowmsM8",
        "outputId": "35be8fc4-624c-4024-f4b6-ef1e98eef2ee"
      },
      "source": [
        "!wget https://www.dropbox.com/s/brixkogrmhan6ed/cab_rides.csv"
      ],
      "execution_count": null,
      "outputs": [
        {
          "output_type": "stream",
          "text": [
            "--2021-05-08 12:40:41--  https://www.dropbox.com/s/brixkogrmhan6ed/cab_rides.csv\n",
            "Resolving www.dropbox.com (www.dropbox.com)... 162.125.5.18, 2620:100:601d:18::a27d:512\n",
            "Connecting to www.dropbox.com (www.dropbox.com)|162.125.5.18|:443... connected.\n",
            "HTTP request sent, awaiting response... 301 Moved Permanently\n",
            "Location: /s/raw/brixkogrmhan6ed/cab_rides.csv [following]\n",
            "--2021-05-08 12:40:41--  https://www.dropbox.com/s/raw/brixkogrmhan6ed/cab_rides.csv\n",
            "Reusing existing connection to www.dropbox.com:443.\n",
            "HTTP request sent, awaiting response... 302 Found\n",
            "Location: https://uc35e19f9954978bd954eda0b76f.dl.dropboxusercontent.com/cd/0/inline/BOGftI2MSsvilH7yj2V0L9c9ZNjMO0pJu5Y4eJdKceQj8IAGmQ2xxoSwpcLOuoBicfw3-tLXbG8sued69vpYp-44StVsojGHoa0k1pc-GhVcZcbEIdLmZoMcJuoSZ_Tb82lmeBTCZHq_Yf1bzUfYtjlT/file# [following]\n",
            "--2021-05-08 12:40:42--  https://uc35e19f9954978bd954eda0b76f.dl.dropboxusercontent.com/cd/0/inline/BOGftI2MSsvilH7yj2V0L9c9ZNjMO0pJu5Y4eJdKceQj8IAGmQ2xxoSwpcLOuoBicfw3-tLXbG8sued69vpYp-44StVsojGHoa0k1pc-GhVcZcbEIdLmZoMcJuoSZ_Tb82lmeBTCZHq_Yf1bzUfYtjlT/file\n",
            "Resolving uc35e19f9954978bd954eda0b76f.dl.dropboxusercontent.com (uc35e19f9954978bd954eda0b76f.dl.dropboxusercontent.com)... 162.125.5.15, 2620:100:601d:15::a27d:50f\n",
            "Connecting to uc35e19f9954978bd954eda0b76f.dl.dropboxusercontent.com (uc35e19f9954978bd954eda0b76f.dl.dropboxusercontent.com)|162.125.5.15|:443... connected.\n",
            "HTTP request sent, awaiting response... 200 OK\n",
            "Length: 88761783 (85M) [text/plain]\n",
            "Saving to: ‘cab_rides.csv.1’\n",
            "\n",
            "cab_rides.csv.1     100%[===================>]  84.65M  63.6MB/s    in 1.3s    \n",
            "\n",
            "2021-05-08 12:40:43 (63.6 MB/s) - ‘cab_rides.csv.1’ saved [88761783/88761783]\n",
            "\n"
          ],
          "name": "stdout"
        }
      ]
    },
    {
      "cell_type": "code",
      "metadata": {
        "id": "5CcCCCBCm22f"
      },
      "source": [
        "#https://www.kaggle.com/gemartin/load-data-reduce-memory-usage\n",
        "def reduce_mem_usage(df):\n",
        "    \"\"\" iterate through all the columns of a dataframe and modify the data type\n",
        "        to reduce memory usage.        \n",
        "    \"\"\"\n",
        "    start_mem = df.memory_usage().sum() / 1024**2\n",
        "    \n",
        "    for col in df.columns:\n",
        "        col_type = df[col].dtype\n",
        "        \n",
        "        if col_type != object:\n",
        "            c_min = df[col].min()\n",
        "            c_max = df[col].max()\n",
        "            if str(col_type)[:3] == 'int':\n",
        "                if c_min > np.iinfo(np.int8).min and c_max < np.iinfo(np.int8).max:\n",
        "                    df[col] = df[col].astype(np.int8)\n",
        "                elif c_min > np.iinfo(np.int16).min and c_max < np.iinfo(np.int16).max:\n",
        "                    df[col] = df[col].astype(np.int16)\n",
        "                elif c_min > np.iinfo(np.int32).min and c_max < np.iinfo(np.int32).max:\n",
        "                  df[col] = df[col].astype(np.int32)\n",
        "                elif c_min > np.iinfo(np.int64).min and c_max < np.iinfo(np.int64).max:\n",
        "                    df[col] = df[col].astype(np.int64)  \n",
        "            else:\n",
        "                #if c_min > np.finfo(np.float16).min and c_max < np.finfo(np.float16).max:\n",
        "                 #   df[col] = df[col].astype(np.float16)\n",
        "                #el\n",
        "                if c_min > np.finfo(np.float32).min and c_max < np.finfo(np.float32).max:\n",
        "                    df[col] = df[col].astype(np.float32)\n",
        "                else:\n",
        "                    df[col] = df[col].astype(np.float64)\n",
        "       # else:\n",
        "            #df[col] = df[col].astype('category')\n",
        "\n",
        "    end_mem = df.memory_usage().sum() / 1024**2\n",
        "    print('Memory usage of dataframe is: {:.2f} MB -->{:.2f} MB (Decreased by {:.1f}%'.format(\n",
        "        start_mem, end_mem, 100 * (start_mem - end_mem) / start_mem))\n",
        "    return df"
      ],
      "execution_count": null,
      "outputs": []
    },
    {
      "cell_type": "code",
      "metadata": {
        "colab": {
          "base_uri": "https://localhost:8080/"
        },
        "id": "7nFs3gvqm4-d",
        "outputId": "792bbff6-54c3-42c2-a2fa-3387ace0a8ab"
      },
      "source": [
        "cab_data = pd.read_csv(\"/content/cab_rides.csv\")\n",
        "cab_data = reduce_mem_usage(cab_data)\n",
        "weather_data = pd.read_csv(\"/content/weather.csv\")\n",
        "weather_data = reduce_mem_usage(weather_data)"
      ],
      "execution_count": null,
      "outputs": [
        {
          "output_type": "stream",
          "text": [
            "Memory usage of dataframe is: 52.88 MB -->44.95 MB (Decreased by 15.0%\n",
            "Memory usage of dataframe is: 0.38 MB -->0.22 MB (Decreased by 43.7%\n"
          ],
          "name": "stdout"
        }
      ]
    },
    {
      "cell_type": "code",
      "metadata": {
        "colab": {
          "base_uri": "https://localhost:8080/",
          "height": 374
        },
        "id": "gz0xpwcOnDv5",
        "outputId": "cc09f47c-0856-4770-edbb-a4de8edf9e1c"
      },
      "source": [
        "cab_data.head()"
      ],
      "execution_count": null,
      "outputs": [
        {
          "output_type": "execute_result",
          "data": {
            "text/html": [
              "<div>\n",
              "<style scoped>\n",
              "    .dataframe tbody tr th:only-of-type {\n",
              "        vertical-align: middle;\n",
              "    }\n",
              "\n",
              "    .dataframe tbody tr th {\n",
              "        vertical-align: top;\n",
              "    }\n",
              "\n",
              "    .dataframe thead th {\n",
              "        text-align: right;\n",
              "    }\n",
              "</style>\n",
              "<table border=\"1\" class=\"dataframe\">\n",
              "  <thead>\n",
              "    <tr style=\"text-align: right;\">\n",
              "      <th></th>\n",
              "      <th>distance</th>\n",
              "      <th>cab_type</th>\n",
              "      <th>time_stamp</th>\n",
              "      <th>destination</th>\n",
              "      <th>source</th>\n",
              "      <th>price</th>\n",
              "      <th>surge_multiplier</th>\n",
              "      <th>id</th>\n",
              "      <th>product_id</th>\n",
              "      <th>name</th>\n",
              "    </tr>\n",
              "  </thead>\n",
              "  <tbody>\n",
              "    <tr>\n",
              "      <th>0</th>\n",
              "      <td>0.44</td>\n",
              "      <td>Lyft</td>\n",
              "      <td>1544952607890</td>\n",
              "      <td>North Station</td>\n",
              "      <td>Haymarket Square</td>\n",
              "      <td>5.0</td>\n",
              "      <td>1.0</td>\n",
              "      <td>424553bb-7174-41ea-aeb4-fe06d4f4b9d7</td>\n",
              "      <td>lyft_line</td>\n",
              "      <td>Shared</td>\n",
              "    </tr>\n",
              "    <tr>\n",
              "      <th>1</th>\n",
              "      <td>0.44</td>\n",
              "      <td>Lyft</td>\n",
              "      <td>1543284023677</td>\n",
              "      <td>North Station</td>\n",
              "      <td>Haymarket Square</td>\n",
              "      <td>11.0</td>\n",
              "      <td>1.0</td>\n",
              "      <td>4bd23055-6827-41c6-b23b-3c491f24e74d</td>\n",
              "      <td>lyft_premier</td>\n",
              "      <td>Lux</td>\n",
              "    </tr>\n",
              "    <tr>\n",
              "      <th>2</th>\n",
              "      <td>0.44</td>\n",
              "      <td>Lyft</td>\n",
              "      <td>1543366822198</td>\n",
              "      <td>North Station</td>\n",
              "      <td>Haymarket Square</td>\n",
              "      <td>7.0</td>\n",
              "      <td>1.0</td>\n",
              "      <td>981a3613-77af-4620-a42a-0c0866077d1e</td>\n",
              "      <td>lyft</td>\n",
              "      <td>Lyft</td>\n",
              "    </tr>\n",
              "    <tr>\n",
              "      <th>3</th>\n",
              "      <td>0.44</td>\n",
              "      <td>Lyft</td>\n",
              "      <td>1543553582749</td>\n",
              "      <td>North Station</td>\n",
              "      <td>Haymarket Square</td>\n",
              "      <td>26.0</td>\n",
              "      <td>1.0</td>\n",
              "      <td>c2d88af2-d278-4bfd-a8d0-29ca77cc5512</td>\n",
              "      <td>lyft_luxsuv</td>\n",
              "      <td>Lux Black XL</td>\n",
              "    </tr>\n",
              "    <tr>\n",
              "      <th>4</th>\n",
              "      <td>0.44</td>\n",
              "      <td>Lyft</td>\n",
              "      <td>1543463360223</td>\n",
              "      <td>North Station</td>\n",
              "      <td>Haymarket Square</td>\n",
              "      <td>9.0</td>\n",
              "      <td>1.0</td>\n",
              "      <td>e0126e1f-8ca9-4f2e-82b3-50505a09db9a</td>\n",
              "      <td>lyft_plus</td>\n",
              "      <td>Lyft XL</td>\n",
              "    </tr>\n",
              "  </tbody>\n",
              "</table>\n",
              "</div>"
            ],
            "text/plain": [
              "   distance cab_type  ...    product_id          name\n",
              "0      0.44     Lyft  ...     lyft_line        Shared\n",
              "1      0.44     Lyft  ...  lyft_premier           Lux\n",
              "2      0.44     Lyft  ...          lyft          Lyft\n",
              "3      0.44     Lyft  ...   lyft_luxsuv  Lux Black XL\n",
              "4      0.44     Lyft  ...     lyft_plus       Lyft XL\n",
              "\n",
              "[5 rows x 10 columns]"
            ]
          },
          "metadata": {
            "tags": []
          },
          "execution_count": 14
        }
      ]
    },
    {
      "cell_type": "code",
      "metadata": {
        "colab": {
          "base_uri": "https://localhost:8080/",
          "height": 204
        },
        "id": "awslkYsinKb2",
        "outputId": "6c934138-e25f-4986-a9f3-0615866df95e"
      },
      "source": [
        "weather_data.head()"
      ],
      "execution_count": null,
      "outputs": [
        {
          "output_type": "execute_result",
          "data": {
            "text/html": [
              "<div>\n",
              "<style scoped>\n",
              "    .dataframe tbody tr th:only-of-type {\n",
              "        vertical-align: middle;\n",
              "    }\n",
              "\n",
              "    .dataframe tbody tr th {\n",
              "        vertical-align: top;\n",
              "    }\n",
              "\n",
              "    .dataframe thead th {\n",
              "        text-align: right;\n",
              "    }\n",
              "</style>\n",
              "<table border=\"1\" class=\"dataframe\">\n",
              "  <thead>\n",
              "    <tr style=\"text-align: right;\">\n",
              "      <th></th>\n",
              "      <th>temp</th>\n",
              "      <th>location</th>\n",
              "      <th>clouds</th>\n",
              "      <th>pressure</th>\n",
              "      <th>rain</th>\n",
              "      <th>time_stamp</th>\n",
              "      <th>humidity</th>\n",
              "      <th>wind</th>\n",
              "    </tr>\n",
              "  </thead>\n",
              "  <tbody>\n",
              "    <tr>\n",
              "      <th>0</th>\n",
              "      <td>42.419998</td>\n",
              "      <td>Back Bay</td>\n",
              "      <td>1.0</td>\n",
              "      <td>1012.140015</td>\n",
              "      <td>0.1228</td>\n",
              "      <td>1545003901</td>\n",
              "      <td>0.77</td>\n",
              "      <td>11.25</td>\n",
              "    </tr>\n",
              "    <tr>\n",
              "      <th>1</th>\n",
              "      <td>42.430000</td>\n",
              "      <td>Beacon Hill</td>\n",
              "      <td>1.0</td>\n",
              "      <td>1012.150024</td>\n",
              "      <td>0.1846</td>\n",
              "      <td>1545003901</td>\n",
              "      <td>0.76</td>\n",
              "      <td>11.32</td>\n",
              "    </tr>\n",
              "    <tr>\n",
              "      <th>2</th>\n",
              "      <td>42.500000</td>\n",
              "      <td>Boston University</td>\n",
              "      <td>1.0</td>\n",
              "      <td>1012.150024</td>\n",
              "      <td>0.1089</td>\n",
              "      <td>1545003901</td>\n",
              "      <td>0.76</td>\n",
              "      <td>11.07</td>\n",
              "    </tr>\n",
              "    <tr>\n",
              "      <th>3</th>\n",
              "      <td>42.110001</td>\n",
              "      <td>Fenway</td>\n",
              "      <td>1.0</td>\n",
              "      <td>1012.130005</td>\n",
              "      <td>0.0969</td>\n",
              "      <td>1545003901</td>\n",
              "      <td>0.77</td>\n",
              "      <td>11.09</td>\n",
              "    </tr>\n",
              "    <tr>\n",
              "      <th>4</th>\n",
              "      <td>43.130001</td>\n",
              "      <td>Financial District</td>\n",
              "      <td>1.0</td>\n",
              "      <td>1012.140015</td>\n",
              "      <td>0.1786</td>\n",
              "      <td>1545003901</td>\n",
              "      <td>0.75</td>\n",
              "      <td>11.49</td>\n",
              "    </tr>\n",
              "  </tbody>\n",
              "</table>\n",
              "</div>"
            ],
            "text/plain": [
              "        temp            location  clouds  ...  time_stamp  humidity   wind\n",
              "0  42.419998            Back Bay     1.0  ...  1545003901      0.77  11.25\n",
              "1  42.430000         Beacon Hill     1.0  ...  1545003901      0.76  11.32\n",
              "2  42.500000   Boston University     1.0  ...  1545003901      0.76  11.07\n",
              "3  42.110001              Fenway     1.0  ...  1545003901      0.77  11.09\n",
              "4  43.130001  Financial District     1.0  ...  1545003901      0.75  11.49\n",
              "\n",
              "[5 rows x 8 columns]"
            ]
          },
          "metadata": {
            "tags": []
          },
          "execution_count": 15
        }
      ]
    },
    {
      "cell_type": "code",
      "metadata": {
        "colab": {
          "base_uri": "https://localhost:8080/"
        },
        "id": "1p93HbDfnM-j",
        "outputId": "28437fc9-414d-4d50-9380-1d848b2a0424"
      },
      "source": [
        "cab_data.shape"
      ],
      "execution_count": null,
      "outputs": [
        {
          "output_type": "execute_result",
          "data": {
            "text/plain": [
              "(693071, 10)"
            ]
          },
          "metadata": {
            "tags": []
          },
          "execution_count": 8
        }
      ]
    },
    {
      "cell_type": "code",
      "metadata": {
        "colab": {
          "base_uri": "https://localhost:8080/"
        },
        "id": "6Zr21U3qnRSJ",
        "outputId": "7d5312c1-aa74-48df-9325-9827fc1b24b2"
      },
      "source": [
        "weather_data.shape"
      ],
      "execution_count": null,
      "outputs": [
        {
          "output_type": "execute_result",
          "data": {
            "text/plain": [
              "(6276, 8)"
            ]
          },
          "metadata": {
            "tags": []
          },
          "execution_count": 9
        }
      ]
    },
    {
      "cell_type": "code",
      "metadata": {
        "colab": {
          "base_uri": "https://localhost:8080/"
        },
        "id": "9wVj2Q2OnWC9",
        "outputId": "03c2862b-5444-4d6f-affe-b63dffb527a3"
      },
      "source": [
        "cab_data.columns"
      ],
      "execution_count": null,
      "outputs": [
        {
          "output_type": "execute_result",
          "data": {
            "text/plain": [
              "Index(['distance', 'cab_type', 'time_stamp', 'destination', 'source', 'price',\n",
              "       'surge_multiplier', 'id', 'product_id', 'name'],\n",
              "      dtype='object')"
            ]
          },
          "metadata": {
            "tags": []
          },
          "execution_count": 10
        }
      ]
    },
    {
      "cell_type": "code",
      "metadata": {
        "colab": {
          "base_uri": "https://localhost:8080/"
        },
        "id": "zWqBfbaynY5d",
        "outputId": "45684858-5298-415f-a830-375e59036d1e"
      },
      "source": [
        "weather_data.columns"
      ],
      "execution_count": null,
      "outputs": [
        {
          "output_type": "execute_result",
          "data": {
            "text/plain": [
              "Index(['temp', 'location', 'clouds', 'pressure', 'rain', 'time_stamp',\n",
              "       'humidity', 'wind'],\n",
              "      dtype='object')"
            ]
          },
          "metadata": {
            "tags": []
          },
          "execution_count": 11
        }
      ]
    },
    {
      "cell_type": "code",
      "metadata": {
        "id": "lBd-z8S71BVc"
      },
      "source": [
        "#converting time_stamp into datetime\n",
        "import datetime        \n",
        "cab_data['datetime']=pd.to_datetime(cab_data['time_stamp'])\n",
        "cab_data\n",
        "weather_data['date_time']=pd.to_datetime(weather_data['time_stamp'])"
      ],
      "execution_count": null,
      "outputs": []
    },
    {
      "cell_type": "code",
      "metadata": {
        "colab": {
          "base_uri": "https://localhost:8080/"
        },
        "id": "Ls7Tj6-a1BtP",
        "outputId": "4451c795-2148-402e-c054-adf7b9584c0e"
      },
      "source": [
        "weather_data.shape"
      ],
      "execution_count": null,
      "outputs": [
        {
          "output_type": "execute_result",
          "data": {
            "text/plain": [
              "(6276, 9)"
            ]
          },
          "metadata": {
            "tags": []
          },
          "execution_count": 23
        }
      ]
    },
    {
      "cell_type": "code",
      "metadata": {
        "colab": {
          "base_uri": "https://localhost:8080/"
        },
        "id": "RD9RitDhnnDq",
        "outputId": "d887ae1b-9e90-4a1c-ad71-5a8fa1f20b97"
      },
      "source": [
        "cab_data.shape"
      ],
      "execution_count": null,
      "outputs": [
        {
          "output_type": "execute_result",
          "data": {
            "text/plain": [
              "(693071, 11)"
            ]
          },
          "metadata": {
            "tags": []
          },
          "execution_count": 22
        }
      ]
    },
    {
      "cell_type": "code",
      "metadata": {
        "colab": {
          "base_uri": "https://localhost:8080/",
          "height": 297
        },
        "id": "fgOu0EnaxrNu",
        "outputId": "a14c175b-b551-41af-c5fb-1945dad8f2aa"
      },
      "source": [
        "cab_data.describe()"
      ],
      "execution_count": null,
      "outputs": [
        {
          "output_type": "execute_result",
          "data": {
            "text/html": [
              "<div>\n",
              "<style scoped>\n",
              "    .dataframe tbody tr th:only-of-type {\n",
              "        vertical-align: middle;\n",
              "    }\n",
              "\n",
              "    .dataframe tbody tr th {\n",
              "        vertical-align: top;\n",
              "    }\n",
              "\n",
              "    .dataframe thead th {\n",
              "        text-align: right;\n",
              "    }\n",
              "</style>\n",
              "<table border=\"1\" class=\"dataframe\">\n",
              "  <thead>\n",
              "    <tr style=\"text-align: right;\">\n",
              "      <th></th>\n",
              "      <th>distance</th>\n",
              "      <th>time_stamp</th>\n",
              "      <th>price</th>\n",
              "      <th>surge_multiplier</th>\n",
              "    </tr>\n",
              "  </thead>\n",
              "  <tbody>\n",
              "    <tr>\n",
              "      <th>count</th>\n",
              "      <td>693071.000000</td>\n",
              "      <td>6.930710e+05</td>\n",
              "      <td>637976.000000</td>\n",
              "      <td>693071.000000</td>\n",
              "    </tr>\n",
              "    <tr>\n",
              "      <th>mean</th>\n",
              "      <td>2.190057</td>\n",
              "      <td>1.544046e+12</td>\n",
              "      <td>16.543797</td>\n",
              "      <td>1.013870</td>\n",
              "    </tr>\n",
              "    <tr>\n",
              "      <th>std</th>\n",
              "      <td>1.138935</td>\n",
              "      <td>6.891925e+08</td>\n",
              "      <td>9.319172</td>\n",
              "      <td>0.091467</td>\n",
              "    </tr>\n",
              "    <tr>\n",
              "      <th>min</th>\n",
              "      <td>0.020000</td>\n",
              "      <td>1.543204e+12</td>\n",
              "      <td>2.500000</td>\n",
              "      <td>1.000000</td>\n",
              "    </tr>\n",
              "    <tr>\n",
              "      <th>25%</th>\n",
              "      <td>1.280000</td>\n",
              "      <td>1.543444e+12</td>\n",
              "      <td>9.000000</td>\n",
              "      <td>1.000000</td>\n",
              "    </tr>\n",
              "    <tr>\n",
              "      <th>50%</th>\n",
              "      <td>2.160000</td>\n",
              "      <td>1.543737e+12</td>\n",
              "      <td>13.500000</td>\n",
              "      <td>1.000000</td>\n",
              "    </tr>\n",
              "    <tr>\n",
              "      <th>75%</th>\n",
              "      <td>2.920000</td>\n",
              "      <td>1.544828e+12</td>\n",
              "      <td>22.500000</td>\n",
              "      <td>1.000000</td>\n",
              "    </tr>\n",
              "    <tr>\n",
              "      <th>max</th>\n",
              "      <td>7.860000</td>\n",
              "      <td>1.545161e+12</td>\n",
              "      <td>97.500000</td>\n",
              "      <td>3.000000</td>\n",
              "    </tr>\n",
              "  </tbody>\n",
              "</table>\n",
              "</div>"
            ],
            "text/plain": [
              "            distance    time_stamp          price  surge_multiplier\n",
              "count  693071.000000  6.930710e+05  637976.000000     693071.000000\n",
              "mean        2.190057  1.544046e+12      16.543797          1.013870\n",
              "std         1.138935  6.891925e+08       9.319172          0.091467\n",
              "min         0.020000  1.543204e+12       2.500000          1.000000\n",
              "25%         1.280000  1.543444e+12       9.000000          1.000000\n",
              "50%         2.160000  1.543737e+12      13.500000          1.000000\n",
              "75%         2.920000  1.544828e+12      22.500000          1.000000\n",
              "max         7.860000  1.545161e+12      97.500000          3.000000"
            ]
          },
          "metadata": {
            "tags": []
          },
          "execution_count": 27
        }
      ]
    },
    {
      "cell_type": "code",
      "metadata": {
        "colab": {
          "base_uri": "https://localhost:8080/",
          "height": 297
        },
        "id": "uEyZzxcRxx0L",
        "outputId": "23d695d7-b29c-4080-f015-98b904f9a397"
      },
      "source": [
        "weather_data.describe()"
      ],
      "execution_count": null,
      "outputs": [
        {
          "output_type": "execute_result",
          "data": {
            "text/html": [
              "<div>\n",
              "<style scoped>\n",
              "    .dataframe tbody tr th:only-of-type {\n",
              "        vertical-align: middle;\n",
              "    }\n",
              "\n",
              "    .dataframe tbody tr th {\n",
              "        vertical-align: top;\n",
              "    }\n",
              "\n",
              "    .dataframe thead th {\n",
              "        text-align: right;\n",
              "    }\n",
              "</style>\n",
              "<table border=\"1\" class=\"dataframe\">\n",
              "  <thead>\n",
              "    <tr style=\"text-align: right;\">\n",
              "      <th></th>\n",
              "      <th>temp</th>\n",
              "      <th>clouds</th>\n",
              "      <th>pressure</th>\n",
              "      <th>rain</th>\n",
              "      <th>time_stamp</th>\n",
              "      <th>humidity</th>\n",
              "      <th>wind</th>\n",
              "    </tr>\n",
              "  </thead>\n",
              "  <tbody>\n",
              "    <tr>\n",
              "      <th>count</th>\n",
              "      <td>6276.000000</td>\n",
              "      <td>6276.000000</td>\n",
              "      <td>6276.000000</td>\n",
              "      <td>894.000000</td>\n",
              "      <td>6.276000e+03</td>\n",
              "      <td>6276.000000</td>\n",
              "      <td>6276.000000</td>\n",
              "    </tr>\n",
              "    <tr>\n",
              "      <th>mean</th>\n",
              "      <td>39.090378</td>\n",
              "      <td>0.677775</td>\n",
              "      <td>1008.443176</td>\n",
              "      <td>0.057652</td>\n",
              "      <td>1.543857e+09</td>\n",
              "      <td>0.763976</td>\n",
              "      <td>6.802810</td>\n",
              "    </tr>\n",
              "    <tr>\n",
              "      <th>std</th>\n",
              "      <td>6.022061</td>\n",
              "      <td>0.314283</td>\n",
              "      <td>12.870790</td>\n",
              "      <td>0.100758</td>\n",
              "      <td>6.659340e+05</td>\n",
              "      <td>0.127340</td>\n",
              "      <td>3.633476</td>\n",
              "    </tr>\n",
              "    <tr>\n",
              "      <th>min</th>\n",
              "      <td>19.620001</td>\n",
              "      <td>0.000000</td>\n",
              "      <td>988.250000</td>\n",
              "      <td>0.000200</td>\n",
              "      <td>1.543204e+09</td>\n",
              "      <td>0.450000</td>\n",
              "      <td>0.290000</td>\n",
              "    </tr>\n",
              "    <tr>\n",
              "      <th>25%</th>\n",
              "      <td>36.077501</td>\n",
              "      <td>0.440000</td>\n",
              "      <td>997.747498</td>\n",
              "      <td>0.004900</td>\n",
              "      <td>1.543387e+09</td>\n",
              "      <td>0.670000</td>\n",
              "      <td>3.517500</td>\n",
              "    </tr>\n",
              "    <tr>\n",
              "      <th>50%</th>\n",
              "      <td>40.130001</td>\n",
              "      <td>0.780000</td>\n",
              "      <td>1007.659973</td>\n",
              "      <td>0.014850</td>\n",
              "      <td>1.543514e+09</td>\n",
              "      <td>0.760000</td>\n",
              "      <td>6.570000</td>\n",
              "    </tr>\n",
              "    <tr>\n",
              "      <th>75%</th>\n",
              "      <td>42.832501</td>\n",
              "      <td>0.970000</td>\n",
              "      <td>1018.479980</td>\n",
              "      <td>0.060925</td>\n",
              "      <td>1.544691e+09</td>\n",
              "      <td>0.890000</td>\n",
              "      <td>9.920000</td>\n",
              "    </tr>\n",
              "    <tr>\n",
              "      <th>max</th>\n",
              "      <td>55.410000</td>\n",
              "      <td>1.000000</td>\n",
              "      <td>1035.119995</td>\n",
              "      <td>0.780700</td>\n",
              "      <td>1.545159e+09</td>\n",
              "      <td>0.990000</td>\n",
              "      <td>18.180000</td>\n",
              "    </tr>\n",
              "  </tbody>\n",
              "</table>\n",
              "</div>"
            ],
            "text/plain": [
              "              temp       clouds  ...     humidity         wind\n",
              "count  6276.000000  6276.000000  ...  6276.000000  6276.000000\n",
              "mean     39.090378     0.677775  ...     0.763976     6.802810\n",
              "std       6.022061     0.314283  ...     0.127340     3.633476\n",
              "min      19.620001     0.000000  ...     0.450000     0.290000\n",
              "25%      36.077501     0.440000  ...     0.670000     3.517500\n",
              "50%      40.130001     0.780000  ...     0.760000     6.570000\n",
              "75%      42.832501     0.970000  ...     0.890000     9.920000\n",
              "max      55.410000     1.000000  ...     0.990000    18.180000\n",
              "\n",
              "[8 rows x 7 columns]"
            ]
          },
          "metadata": {
            "tags": []
          },
          "execution_count": 28
        }
      ]
    },
    {
      "cell_type": "code",
      "metadata": {
        "id": "nZbAcOdExyR7"
      },
      "source": [
        "a=pd.concat([cab_data,weather_data])   #concatenate both the data"
      ],
      "execution_count": null,
      "outputs": []
    },
    {
      "cell_type": "code",
      "metadata": {
        "colab": {
          "base_uri": "https://localhost:8080/",
          "height": 479
        },
        "id": "pE4Bc9QOyDAo",
        "outputId": "bc082535-b24c-4591-8500-1b1bc0d68315"
      },
      "source": [
        "a.head()"
      ],
      "execution_count": null,
      "outputs": [
        {
          "output_type": "execute_result",
          "data": {
            "text/html": [
              "<div>\n",
              "<style scoped>\n",
              "    .dataframe tbody tr th:only-of-type {\n",
              "        vertical-align: middle;\n",
              "    }\n",
              "\n",
              "    .dataframe tbody tr th {\n",
              "        vertical-align: top;\n",
              "    }\n",
              "\n",
              "    .dataframe thead th {\n",
              "        text-align: right;\n",
              "    }\n",
              "</style>\n",
              "<table border=\"1\" class=\"dataframe\">\n",
              "  <thead>\n",
              "    <tr style=\"text-align: right;\">\n",
              "      <th></th>\n",
              "      <th>distance</th>\n",
              "      <th>cab_type</th>\n",
              "      <th>time_stamp</th>\n",
              "      <th>destination</th>\n",
              "      <th>source</th>\n",
              "      <th>price</th>\n",
              "      <th>surge_multiplier</th>\n",
              "      <th>id</th>\n",
              "      <th>product_id</th>\n",
              "      <th>name</th>\n",
              "      <th>datetime</th>\n",
              "      <th>temp</th>\n",
              "      <th>location</th>\n",
              "      <th>clouds</th>\n",
              "      <th>pressure</th>\n",
              "      <th>rain</th>\n",
              "      <th>humidity</th>\n",
              "      <th>wind</th>\n",
              "      <th>date_time</th>\n",
              "    </tr>\n",
              "  </thead>\n",
              "  <tbody>\n",
              "    <tr>\n",
              "      <th>0</th>\n",
              "      <td>0.44</td>\n",
              "      <td>Lyft</td>\n",
              "      <td>1544952607890</td>\n",
              "      <td>North Station</td>\n",
              "      <td>Haymarket Square</td>\n",
              "      <td>5.0</td>\n",
              "      <td>1.0</td>\n",
              "      <td>424553bb-7174-41ea-aeb4-fe06d4f4b9d7</td>\n",
              "      <td>lyft_line</td>\n",
              "      <td>Shared</td>\n",
              "      <td>1970-01-01 00:25:44.952607890</td>\n",
              "      <td>NaN</td>\n",
              "      <td>NaN</td>\n",
              "      <td>NaN</td>\n",
              "      <td>NaN</td>\n",
              "      <td>NaN</td>\n",
              "      <td>NaN</td>\n",
              "      <td>NaN</td>\n",
              "      <td>NaT</td>\n",
              "    </tr>\n",
              "    <tr>\n",
              "      <th>1</th>\n",
              "      <td>0.44</td>\n",
              "      <td>Lyft</td>\n",
              "      <td>1543284023677</td>\n",
              "      <td>North Station</td>\n",
              "      <td>Haymarket Square</td>\n",
              "      <td>11.0</td>\n",
              "      <td>1.0</td>\n",
              "      <td>4bd23055-6827-41c6-b23b-3c491f24e74d</td>\n",
              "      <td>lyft_premier</td>\n",
              "      <td>Lux</td>\n",
              "      <td>1970-01-01 00:25:43.284023677</td>\n",
              "      <td>NaN</td>\n",
              "      <td>NaN</td>\n",
              "      <td>NaN</td>\n",
              "      <td>NaN</td>\n",
              "      <td>NaN</td>\n",
              "      <td>NaN</td>\n",
              "      <td>NaN</td>\n",
              "      <td>NaT</td>\n",
              "    </tr>\n",
              "    <tr>\n",
              "      <th>2</th>\n",
              "      <td>0.44</td>\n",
              "      <td>Lyft</td>\n",
              "      <td>1543366822198</td>\n",
              "      <td>North Station</td>\n",
              "      <td>Haymarket Square</td>\n",
              "      <td>7.0</td>\n",
              "      <td>1.0</td>\n",
              "      <td>981a3613-77af-4620-a42a-0c0866077d1e</td>\n",
              "      <td>lyft</td>\n",
              "      <td>Lyft</td>\n",
              "      <td>1970-01-01 00:25:43.366822198</td>\n",
              "      <td>NaN</td>\n",
              "      <td>NaN</td>\n",
              "      <td>NaN</td>\n",
              "      <td>NaN</td>\n",
              "      <td>NaN</td>\n",
              "      <td>NaN</td>\n",
              "      <td>NaN</td>\n",
              "      <td>NaT</td>\n",
              "    </tr>\n",
              "    <tr>\n",
              "      <th>3</th>\n",
              "      <td>0.44</td>\n",
              "      <td>Lyft</td>\n",
              "      <td>1543553582749</td>\n",
              "      <td>North Station</td>\n",
              "      <td>Haymarket Square</td>\n",
              "      <td>26.0</td>\n",
              "      <td>1.0</td>\n",
              "      <td>c2d88af2-d278-4bfd-a8d0-29ca77cc5512</td>\n",
              "      <td>lyft_luxsuv</td>\n",
              "      <td>Lux Black XL</td>\n",
              "      <td>1970-01-01 00:25:43.553582749</td>\n",
              "      <td>NaN</td>\n",
              "      <td>NaN</td>\n",
              "      <td>NaN</td>\n",
              "      <td>NaN</td>\n",
              "      <td>NaN</td>\n",
              "      <td>NaN</td>\n",
              "      <td>NaN</td>\n",
              "      <td>NaT</td>\n",
              "    </tr>\n",
              "    <tr>\n",
              "      <th>4</th>\n",
              "      <td>0.44</td>\n",
              "      <td>Lyft</td>\n",
              "      <td>1543463360223</td>\n",
              "      <td>North Station</td>\n",
              "      <td>Haymarket Square</td>\n",
              "      <td>9.0</td>\n",
              "      <td>1.0</td>\n",
              "      <td>e0126e1f-8ca9-4f2e-82b3-50505a09db9a</td>\n",
              "      <td>lyft_plus</td>\n",
              "      <td>Lyft XL</td>\n",
              "      <td>1970-01-01 00:25:43.463360223</td>\n",
              "      <td>NaN</td>\n",
              "      <td>NaN</td>\n",
              "      <td>NaN</td>\n",
              "      <td>NaN</td>\n",
              "      <td>NaN</td>\n",
              "      <td>NaN</td>\n",
              "      <td>NaN</td>\n",
              "      <td>NaT</td>\n",
              "    </tr>\n",
              "  </tbody>\n",
              "</table>\n",
              "</div>"
            ],
            "text/plain": [
              "   distance cab_type     time_stamp  ... humidity wind  date_time\n",
              "0      0.44     Lyft  1544952607890  ...      NaN  NaN        NaT\n",
              "1      0.44     Lyft  1543284023677  ...      NaN  NaN        NaT\n",
              "2      0.44     Lyft  1543366822198  ...      NaN  NaN        NaT\n",
              "3      0.44     Lyft  1543553582749  ...      NaN  NaN        NaT\n",
              "4      0.44     Lyft  1543463360223  ...      NaN  NaN        NaT\n",
              "\n",
              "[5 rows x 19 columns]"
            ]
          },
          "metadata": {
            "tags": []
          },
          "execution_count": 30
        }
      ]
    },
    {
      "cell_type": "code",
      "metadata": {
        "id": "-JQTky_NyDJm"
      },
      "source": [
        "a['day']=a.date_time.dt.day\n",
        "a['hour']=a.date_time.dt.hour"
      ],
      "execution_count": null,
      "outputs": []
    },
    {
      "cell_type": "code",
      "metadata": {
        "colab": {
          "base_uri": "https://localhost:8080/",
          "height": 479
        },
        "id": "OGlsN6uY2BME",
        "outputId": "16eb3ce9-081f-461e-972b-2052a5ef2fc1"
      },
      "source": [
        "a.head()"
      ],
      "execution_count": null,
      "outputs": [
        {
          "output_type": "execute_result",
          "data": {
            "text/html": [
              "<div>\n",
              "<style scoped>\n",
              "    .dataframe tbody tr th:only-of-type {\n",
              "        vertical-align: middle;\n",
              "    }\n",
              "\n",
              "    .dataframe tbody tr th {\n",
              "        vertical-align: top;\n",
              "    }\n",
              "\n",
              "    .dataframe thead th {\n",
              "        text-align: right;\n",
              "    }\n",
              "</style>\n",
              "<table border=\"1\" class=\"dataframe\">\n",
              "  <thead>\n",
              "    <tr style=\"text-align: right;\">\n",
              "      <th></th>\n",
              "      <th>distance</th>\n",
              "      <th>cab_type</th>\n",
              "      <th>time_stamp</th>\n",
              "      <th>destination</th>\n",
              "      <th>source</th>\n",
              "      <th>price</th>\n",
              "      <th>surge_multiplier</th>\n",
              "      <th>id</th>\n",
              "      <th>product_id</th>\n",
              "      <th>name</th>\n",
              "      <th>datetime</th>\n",
              "      <th>temp</th>\n",
              "      <th>location</th>\n",
              "      <th>clouds</th>\n",
              "      <th>pressure</th>\n",
              "      <th>rain</th>\n",
              "      <th>humidity</th>\n",
              "      <th>wind</th>\n",
              "      <th>date_time</th>\n",
              "      <th>day</th>\n",
              "      <th>hour</th>\n",
              "    </tr>\n",
              "  </thead>\n",
              "  <tbody>\n",
              "    <tr>\n",
              "      <th>0</th>\n",
              "      <td>0.44</td>\n",
              "      <td>Lyft</td>\n",
              "      <td>1544952607890</td>\n",
              "      <td>North Station</td>\n",
              "      <td>Haymarket Square</td>\n",
              "      <td>5.0</td>\n",
              "      <td>1.0</td>\n",
              "      <td>424553bb-7174-41ea-aeb4-fe06d4f4b9d7</td>\n",
              "      <td>lyft_line</td>\n",
              "      <td>Shared</td>\n",
              "      <td>1970-01-01 00:25:44.952607890</td>\n",
              "      <td>NaN</td>\n",
              "      <td>NaN</td>\n",
              "      <td>NaN</td>\n",
              "      <td>NaN</td>\n",
              "      <td>NaN</td>\n",
              "      <td>NaN</td>\n",
              "      <td>NaN</td>\n",
              "      <td>NaT</td>\n",
              "      <td>NaN</td>\n",
              "      <td>NaN</td>\n",
              "    </tr>\n",
              "    <tr>\n",
              "      <th>1</th>\n",
              "      <td>0.44</td>\n",
              "      <td>Lyft</td>\n",
              "      <td>1543284023677</td>\n",
              "      <td>North Station</td>\n",
              "      <td>Haymarket Square</td>\n",
              "      <td>11.0</td>\n",
              "      <td>1.0</td>\n",
              "      <td>4bd23055-6827-41c6-b23b-3c491f24e74d</td>\n",
              "      <td>lyft_premier</td>\n",
              "      <td>Lux</td>\n",
              "      <td>1970-01-01 00:25:43.284023677</td>\n",
              "      <td>NaN</td>\n",
              "      <td>NaN</td>\n",
              "      <td>NaN</td>\n",
              "      <td>NaN</td>\n",
              "      <td>NaN</td>\n",
              "      <td>NaN</td>\n",
              "      <td>NaN</td>\n",
              "      <td>NaT</td>\n",
              "      <td>NaN</td>\n",
              "      <td>NaN</td>\n",
              "    </tr>\n",
              "    <tr>\n",
              "      <th>2</th>\n",
              "      <td>0.44</td>\n",
              "      <td>Lyft</td>\n",
              "      <td>1543366822198</td>\n",
              "      <td>North Station</td>\n",
              "      <td>Haymarket Square</td>\n",
              "      <td>7.0</td>\n",
              "      <td>1.0</td>\n",
              "      <td>981a3613-77af-4620-a42a-0c0866077d1e</td>\n",
              "      <td>lyft</td>\n",
              "      <td>Lyft</td>\n",
              "      <td>1970-01-01 00:25:43.366822198</td>\n",
              "      <td>NaN</td>\n",
              "      <td>NaN</td>\n",
              "      <td>NaN</td>\n",
              "      <td>NaN</td>\n",
              "      <td>NaN</td>\n",
              "      <td>NaN</td>\n",
              "      <td>NaN</td>\n",
              "      <td>NaT</td>\n",
              "      <td>NaN</td>\n",
              "      <td>NaN</td>\n",
              "    </tr>\n",
              "    <tr>\n",
              "      <th>3</th>\n",
              "      <td>0.44</td>\n",
              "      <td>Lyft</td>\n",
              "      <td>1543553582749</td>\n",
              "      <td>North Station</td>\n",
              "      <td>Haymarket Square</td>\n",
              "      <td>26.0</td>\n",
              "      <td>1.0</td>\n",
              "      <td>c2d88af2-d278-4bfd-a8d0-29ca77cc5512</td>\n",
              "      <td>lyft_luxsuv</td>\n",
              "      <td>Lux Black XL</td>\n",
              "      <td>1970-01-01 00:25:43.553582749</td>\n",
              "      <td>NaN</td>\n",
              "      <td>NaN</td>\n",
              "      <td>NaN</td>\n",
              "      <td>NaN</td>\n",
              "      <td>NaN</td>\n",
              "      <td>NaN</td>\n",
              "      <td>NaN</td>\n",
              "      <td>NaT</td>\n",
              "      <td>NaN</td>\n",
              "      <td>NaN</td>\n",
              "    </tr>\n",
              "    <tr>\n",
              "      <th>4</th>\n",
              "      <td>0.44</td>\n",
              "      <td>Lyft</td>\n",
              "      <td>1543463360223</td>\n",
              "      <td>North Station</td>\n",
              "      <td>Haymarket Square</td>\n",
              "      <td>9.0</td>\n",
              "      <td>1.0</td>\n",
              "      <td>e0126e1f-8ca9-4f2e-82b3-50505a09db9a</td>\n",
              "      <td>lyft_plus</td>\n",
              "      <td>Lyft XL</td>\n",
              "      <td>1970-01-01 00:25:43.463360223</td>\n",
              "      <td>NaN</td>\n",
              "      <td>NaN</td>\n",
              "      <td>NaN</td>\n",
              "      <td>NaN</td>\n",
              "      <td>NaN</td>\n",
              "      <td>NaN</td>\n",
              "      <td>NaN</td>\n",
              "      <td>NaT</td>\n",
              "      <td>NaN</td>\n",
              "      <td>NaN</td>\n",
              "    </tr>\n",
              "  </tbody>\n",
              "</table>\n",
              "</div>"
            ],
            "text/plain": [
              "   distance cab_type     time_stamp    destination  ... wind  date_time  day hour\n",
              "0      0.44     Lyft  1544952607890  North Station  ...  NaN        NaT  NaN  NaN\n",
              "1      0.44     Lyft  1543284023677  North Station  ...  NaN        NaT  NaN  NaN\n",
              "2      0.44     Lyft  1543366822198  North Station  ...  NaN        NaT  NaN  NaN\n",
              "3      0.44     Lyft  1543553582749  North Station  ...  NaN        NaT  NaN  NaN\n",
              "4      0.44     Lyft  1543463360223  North Station  ...  NaN        NaT  NaN  NaN\n",
              "\n",
              "[5 rows x 21 columns]"
            ]
          },
          "metadata": {
            "tags": []
          },
          "execution_count": 33
        }
      ]
    },
    {
      "cell_type": "code",
      "metadata": {
        "colab": {
          "base_uri": "https://localhost:8080/",
          "height": 309
        },
        "id": "WoLsDL0A2Ma1",
        "outputId": "41bb9f40-2618-41ed-9f9d-ead74632c0d4"
      },
      "source": [
        "a.tail()\n",
        "#here we get the value of day and hour"
      ],
      "execution_count": null,
      "outputs": [
        {
          "output_type": "execute_result",
          "data": {
            "text/html": [
              "<div>\n",
              "<style scoped>\n",
              "    .dataframe tbody tr th:only-of-type {\n",
              "        vertical-align: middle;\n",
              "    }\n",
              "\n",
              "    .dataframe tbody tr th {\n",
              "        vertical-align: top;\n",
              "    }\n",
              "\n",
              "    .dataframe thead th {\n",
              "        text-align: right;\n",
              "    }\n",
              "</style>\n",
              "<table border=\"1\" class=\"dataframe\">\n",
              "  <thead>\n",
              "    <tr style=\"text-align: right;\">\n",
              "      <th></th>\n",
              "      <th>distance</th>\n",
              "      <th>cab_type</th>\n",
              "      <th>time_stamp</th>\n",
              "      <th>destination</th>\n",
              "      <th>source</th>\n",
              "      <th>price</th>\n",
              "      <th>surge_multiplier</th>\n",
              "      <th>id</th>\n",
              "      <th>product_id</th>\n",
              "      <th>name</th>\n",
              "      <th>datetime</th>\n",
              "      <th>temp</th>\n",
              "      <th>location</th>\n",
              "      <th>clouds</th>\n",
              "      <th>pressure</th>\n",
              "      <th>rain</th>\n",
              "      <th>humidity</th>\n",
              "      <th>wind</th>\n",
              "      <th>date_time</th>\n",
              "      <th>day</th>\n",
              "      <th>hour</th>\n",
              "    </tr>\n",
              "  </thead>\n",
              "  <tbody>\n",
              "    <tr>\n",
              "      <th>6271</th>\n",
              "      <td>NaN</td>\n",
              "      <td>NaN</td>\n",
              "      <td>1543819974</td>\n",
              "      <td>NaN</td>\n",
              "      <td>NaN</td>\n",
              "      <td>NaN</td>\n",
              "      <td>NaN</td>\n",
              "      <td>NaN</td>\n",
              "      <td>NaN</td>\n",
              "      <td>NaN</td>\n",
              "      <td>NaT</td>\n",
              "      <td>44.720001</td>\n",
              "      <td>North Station</td>\n",
              "      <td>0.89</td>\n",
              "      <td>1000.690002</td>\n",
              "      <td>NaN</td>\n",
              "      <td>0.96</td>\n",
              "      <td>1.52</td>\n",
              "      <td>1970-01-01 00:00:01.543819974</td>\n",
              "      <td>1.0</td>\n",
              "      <td>0.0</td>\n",
              "    </tr>\n",
              "    <tr>\n",
              "      <th>6272</th>\n",
              "      <td>NaN</td>\n",
              "      <td>NaN</td>\n",
              "      <td>1543819974</td>\n",
              "      <td>NaN</td>\n",
              "      <td>NaN</td>\n",
              "      <td>NaN</td>\n",
              "      <td>NaN</td>\n",
              "      <td>NaN</td>\n",
              "      <td>NaN</td>\n",
              "      <td>NaN</td>\n",
              "      <td>NaT</td>\n",
              "      <td>44.849998</td>\n",
              "      <td>Northeastern University</td>\n",
              "      <td>0.88</td>\n",
              "      <td>1000.710022</td>\n",
              "      <td>NaN</td>\n",
              "      <td>0.96</td>\n",
              "      <td>1.54</td>\n",
              "      <td>1970-01-01 00:00:01.543819974</td>\n",
              "      <td>1.0</td>\n",
              "      <td>0.0</td>\n",
              "    </tr>\n",
              "    <tr>\n",
              "      <th>6273</th>\n",
              "      <td>NaN</td>\n",
              "      <td>NaN</td>\n",
              "      <td>1543819974</td>\n",
              "      <td>NaN</td>\n",
              "      <td>NaN</td>\n",
              "      <td>NaN</td>\n",
              "      <td>NaN</td>\n",
              "      <td>NaN</td>\n",
              "      <td>NaN</td>\n",
              "      <td>NaN</td>\n",
              "      <td>NaT</td>\n",
              "      <td>44.820000</td>\n",
              "      <td>South Station</td>\n",
              "      <td>0.89</td>\n",
              "      <td>1000.700012</td>\n",
              "      <td>NaN</td>\n",
              "      <td>0.96</td>\n",
              "      <td>1.54</td>\n",
              "      <td>1970-01-01 00:00:01.543819974</td>\n",
              "      <td>1.0</td>\n",
              "      <td>0.0</td>\n",
              "    </tr>\n",
              "    <tr>\n",
              "      <th>6274</th>\n",
              "      <td>NaN</td>\n",
              "      <td>NaN</td>\n",
              "      <td>1543819974</td>\n",
              "      <td>NaN</td>\n",
              "      <td>NaN</td>\n",
              "      <td>NaN</td>\n",
              "      <td>NaN</td>\n",
              "      <td>NaN</td>\n",
              "      <td>NaN</td>\n",
              "      <td>NaN</td>\n",
              "      <td>NaT</td>\n",
              "      <td>44.779999</td>\n",
              "      <td>Theatre District</td>\n",
              "      <td>0.89</td>\n",
              "      <td>1000.700012</td>\n",
              "      <td>NaN</td>\n",
              "      <td>0.96</td>\n",
              "      <td>1.54</td>\n",
              "      <td>1970-01-01 00:00:01.543819974</td>\n",
              "      <td>1.0</td>\n",
              "      <td>0.0</td>\n",
              "    </tr>\n",
              "    <tr>\n",
              "      <th>6275</th>\n",
              "      <td>NaN</td>\n",
              "      <td>NaN</td>\n",
              "      <td>1543819974</td>\n",
              "      <td>NaN</td>\n",
              "      <td>NaN</td>\n",
              "      <td>NaN</td>\n",
              "      <td>NaN</td>\n",
              "      <td>NaN</td>\n",
              "      <td>NaN</td>\n",
              "      <td>NaN</td>\n",
              "      <td>NaT</td>\n",
              "      <td>44.689999</td>\n",
              "      <td>West End</td>\n",
              "      <td>0.89</td>\n",
              "      <td>1000.700012</td>\n",
              "      <td>NaN</td>\n",
              "      <td>0.96</td>\n",
              "      <td>1.52</td>\n",
              "      <td>1970-01-01 00:00:01.543819974</td>\n",
              "      <td>1.0</td>\n",
              "      <td>0.0</td>\n",
              "    </tr>\n",
              "  </tbody>\n",
              "</table>\n",
              "</div>"
            ],
            "text/plain": [
              "      distance cab_type  time_stamp  ...                     date_time  day  hour\n",
              "6271       NaN      NaN  1543819974  ... 1970-01-01 00:00:01.543819974  1.0   0.0\n",
              "6272       NaN      NaN  1543819974  ... 1970-01-01 00:00:01.543819974  1.0   0.0\n",
              "6273       NaN      NaN  1543819974  ... 1970-01-01 00:00:01.543819974  1.0   0.0\n",
              "6274       NaN      NaN  1543819974  ... 1970-01-01 00:00:01.543819974  1.0   0.0\n",
              "6275       NaN      NaN  1543819974  ... 1970-01-01 00:00:01.543819974  1.0   0.0\n",
              "\n",
              "[5 rows x 21 columns]"
            ]
          },
          "metadata": {
            "tags": []
          },
          "execution_count": 35
        }
      ]
    },
    {
      "cell_type": "code",
      "metadata": {
        "id": "hOAIkgva2XP2"
      },
      "source": [
        "#fill NAN value with 0 using fillna\n",
        "a.fillna(0,inplace=True)"
      ],
      "execution_count": null,
      "outputs": []
    },
    {
      "cell_type": "code",
      "metadata": {
        "colab": {
          "base_uri": "https://localhost:8080/",
          "height": 479
        },
        "id": "gsfxC4Rs20C2",
        "outputId": "95cd9978-bc9e-4f1e-a1e8-ac1f1f76bbb8"
      },
      "source": [
        "a.head()"
      ],
      "execution_count": null,
      "outputs": [
        {
          "output_type": "execute_result",
          "data": {
            "text/html": [
              "<div>\n",
              "<style scoped>\n",
              "    .dataframe tbody tr th:only-of-type {\n",
              "        vertical-align: middle;\n",
              "    }\n",
              "\n",
              "    .dataframe tbody tr th {\n",
              "        vertical-align: top;\n",
              "    }\n",
              "\n",
              "    .dataframe thead th {\n",
              "        text-align: right;\n",
              "    }\n",
              "</style>\n",
              "<table border=\"1\" class=\"dataframe\">\n",
              "  <thead>\n",
              "    <tr style=\"text-align: right;\">\n",
              "      <th></th>\n",
              "      <th>distance</th>\n",
              "      <th>cab_type</th>\n",
              "      <th>time_stamp</th>\n",
              "      <th>destination</th>\n",
              "      <th>source</th>\n",
              "      <th>price</th>\n",
              "      <th>surge_multiplier</th>\n",
              "      <th>id</th>\n",
              "      <th>product_id</th>\n",
              "      <th>name</th>\n",
              "      <th>datetime</th>\n",
              "      <th>temp</th>\n",
              "      <th>location</th>\n",
              "      <th>clouds</th>\n",
              "      <th>pressure</th>\n",
              "      <th>rain</th>\n",
              "      <th>humidity</th>\n",
              "      <th>wind</th>\n",
              "      <th>date_time</th>\n",
              "      <th>day</th>\n",
              "      <th>hour</th>\n",
              "    </tr>\n",
              "  </thead>\n",
              "  <tbody>\n",
              "    <tr>\n",
              "      <th>0</th>\n",
              "      <td>0.44</td>\n",
              "      <td>Lyft</td>\n",
              "      <td>1544952607890</td>\n",
              "      <td>North Station</td>\n",
              "      <td>Haymarket Square</td>\n",
              "      <td>5.0</td>\n",
              "      <td>1.0</td>\n",
              "      <td>424553bb-7174-41ea-aeb4-fe06d4f4b9d7</td>\n",
              "      <td>lyft_line</td>\n",
              "      <td>Shared</td>\n",
              "      <td>1970-01-01 00:25:44.952607890</td>\n",
              "      <td>0.0</td>\n",
              "      <td>0</td>\n",
              "      <td>0.0</td>\n",
              "      <td>0.0</td>\n",
              "      <td>0.0</td>\n",
              "      <td>0.0</td>\n",
              "      <td>0.0</td>\n",
              "      <td>0</td>\n",
              "      <td>0.0</td>\n",
              "      <td>0.0</td>\n",
              "    </tr>\n",
              "    <tr>\n",
              "      <th>1</th>\n",
              "      <td>0.44</td>\n",
              "      <td>Lyft</td>\n",
              "      <td>1543284023677</td>\n",
              "      <td>North Station</td>\n",
              "      <td>Haymarket Square</td>\n",
              "      <td>11.0</td>\n",
              "      <td>1.0</td>\n",
              "      <td>4bd23055-6827-41c6-b23b-3c491f24e74d</td>\n",
              "      <td>lyft_premier</td>\n",
              "      <td>Lux</td>\n",
              "      <td>1970-01-01 00:25:43.284023677</td>\n",
              "      <td>0.0</td>\n",
              "      <td>0</td>\n",
              "      <td>0.0</td>\n",
              "      <td>0.0</td>\n",
              "      <td>0.0</td>\n",
              "      <td>0.0</td>\n",
              "      <td>0.0</td>\n",
              "      <td>0</td>\n",
              "      <td>0.0</td>\n",
              "      <td>0.0</td>\n",
              "    </tr>\n",
              "    <tr>\n",
              "      <th>2</th>\n",
              "      <td>0.44</td>\n",
              "      <td>Lyft</td>\n",
              "      <td>1543366822198</td>\n",
              "      <td>North Station</td>\n",
              "      <td>Haymarket Square</td>\n",
              "      <td>7.0</td>\n",
              "      <td>1.0</td>\n",
              "      <td>981a3613-77af-4620-a42a-0c0866077d1e</td>\n",
              "      <td>lyft</td>\n",
              "      <td>Lyft</td>\n",
              "      <td>1970-01-01 00:25:43.366822198</td>\n",
              "      <td>0.0</td>\n",
              "      <td>0</td>\n",
              "      <td>0.0</td>\n",
              "      <td>0.0</td>\n",
              "      <td>0.0</td>\n",
              "      <td>0.0</td>\n",
              "      <td>0.0</td>\n",
              "      <td>0</td>\n",
              "      <td>0.0</td>\n",
              "      <td>0.0</td>\n",
              "    </tr>\n",
              "    <tr>\n",
              "      <th>3</th>\n",
              "      <td>0.44</td>\n",
              "      <td>Lyft</td>\n",
              "      <td>1543553582749</td>\n",
              "      <td>North Station</td>\n",
              "      <td>Haymarket Square</td>\n",
              "      <td>26.0</td>\n",
              "      <td>1.0</td>\n",
              "      <td>c2d88af2-d278-4bfd-a8d0-29ca77cc5512</td>\n",
              "      <td>lyft_luxsuv</td>\n",
              "      <td>Lux Black XL</td>\n",
              "      <td>1970-01-01 00:25:43.553582749</td>\n",
              "      <td>0.0</td>\n",
              "      <td>0</td>\n",
              "      <td>0.0</td>\n",
              "      <td>0.0</td>\n",
              "      <td>0.0</td>\n",
              "      <td>0.0</td>\n",
              "      <td>0.0</td>\n",
              "      <td>0</td>\n",
              "      <td>0.0</td>\n",
              "      <td>0.0</td>\n",
              "    </tr>\n",
              "    <tr>\n",
              "      <th>4</th>\n",
              "      <td>0.44</td>\n",
              "      <td>Lyft</td>\n",
              "      <td>1543463360223</td>\n",
              "      <td>North Station</td>\n",
              "      <td>Haymarket Square</td>\n",
              "      <td>9.0</td>\n",
              "      <td>1.0</td>\n",
              "      <td>e0126e1f-8ca9-4f2e-82b3-50505a09db9a</td>\n",
              "      <td>lyft_plus</td>\n",
              "      <td>Lyft XL</td>\n",
              "      <td>1970-01-01 00:25:43.463360223</td>\n",
              "      <td>0.0</td>\n",
              "      <td>0</td>\n",
              "      <td>0.0</td>\n",
              "      <td>0.0</td>\n",
              "      <td>0.0</td>\n",
              "      <td>0.0</td>\n",
              "      <td>0.0</td>\n",
              "      <td>0</td>\n",
              "      <td>0.0</td>\n",
              "      <td>0.0</td>\n",
              "    </tr>\n",
              "  </tbody>\n",
              "</table>\n",
              "</div>"
            ],
            "text/plain": [
              "   distance cab_type     time_stamp    destination  ... wind  date_time  day hour\n",
              "0      0.44     Lyft  1544952607890  North Station  ...  0.0          0  0.0  0.0\n",
              "1      0.44     Lyft  1543284023677  North Station  ...  0.0          0  0.0  0.0\n",
              "2      0.44     Lyft  1543366822198  North Station  ...  0.0          0  0.0  0.0\n",
              "3      0.44     Lyft  1543553582749  North Station  ...  0.0          0  0.0  0.0\n",
              "4      0.44     Lyft  1543463360223  North Station  ...  0.0          0  0.0  0.0\n",
              "\n",
              "[5 rows x 21 columns]"
            ]
          },
          "metadata": {
            "tags": []
          },
          "execution_count": 37
        }
      ]
    },
    {
      "cell_type": "code",
      "metadata": {
        "colab": {
          "base_uri": "https://localhost:8080/"
        },
        "id": "9ScFo_N53C3y",
        "outputId": "d87b343f-e20f-43b9-f4f7-01d3d047d6e3"
      },
      "source": [
        "a.columns"
      ],
      "execution_count": null,
      "outputs": [
        {
          "output_type": "execute_result",
          "data": {
            "text/plain": [
              "Index(['distance', 'cab_type', 'time_stamp', 'destination', 'source', 'price',\n",
              "       'surge_multiplier', 'id', 'product_id', 'name', 'datetime', 'temp',\n",
              "       'location', 'clouds', 'pressure', 'rain', 'humidity', 'wind',\n",
              "       'date_time', 'day', 'hour'],\n",
              "      dtype='object')"
            ]
          },
          "metadata": {
            "tags": []
          },
          "execution_count": 38
        }
      ]
    },
    {
      "cell_type": "code",
      "metadata": {
        "colab": {
          "base_uri": "https://localhost:8080/",
          "height": 193
        },
        "id": "tibFN03V3JWJ",
        "outputId": "0a0b180e-5ee0-4d06-bf1a-7f2c576d1e44"
      },
      "source": [
        "#there are two types of cab_type if we want to see what are they \n",
        "#we use groupby\n",
        "\n",
        "a.groupby('cab_type').count()  #this will count the whole numbers(add them)"
      ],
      "execution_count": null,
      "outputs": [
        {
          "output_type": "execute_result",
          "data": {
            "text/html": [
              "<div>\n",
              "<style scoped>\n",
              "    .dataframe tbody tr th:only-of-type {\n",
              "        vertical-align: middle;\n",
              "    }\n",
              "\n",
              "    .dataframe tbody tr th {\n",
              "        vertical-align: top;\n",
              "    }\n",
              "\n",
              "    .dataframe thead th {\n",
              "        text-align: right;\n",
              "    }\n",
              "</style>\n",
              "<table border=\"1\" class=\"dataframe\">\n",
              "  <thead>\n",
              "    <tr style=\"text-align: right;\">\n",
              "      <th></th>\n",
              "      <th>distance</th>\n",
              "      <th>time_stamp</th>\n",
              "      <th>destination</th>\n",
              "      <th>source</th>\n",
              "      <th>price</th>\n",
              "      <th>surge_multiplier</th>\n",
              "      <th>id</th>\n",
              "      <th>product_id</th>\n",
              "      <th>name</th>\n",
              "      <th>datetime</th>\n",
              "      <th>temp</th>\n",
              "      <th>location</th>\n",
              "      <th>clouds</th>\n",
              "      <th>pressure</th>\n",
              "      <th>rain</th>\n",
              "      <th>humidity</th>\n",
              "      <th>wind</th>\n",
              "      <th>date_time</th>\n",
              "      <th>day</th>\n",
              "      <th>hour</th>\n",
              "    </tr>\n",
              "    <tr>\n",
              "      <th>cab_type</th>\n",
              "      <th></th>\n",
              "      <th></th>\n",
              "      <th></th>\n",
              "      <th></th>\n",
              "      <th></th>\n",
              "      <th></th>\n",
              "      <th></th>\n",
              "      <th></th>\n",
              "      <th></th>\n",
              "      <th></th>\n",
              "      <th></th>\n",
              "      <th></th>\n",
              "      <th></th>\n",
              "      <th></th>\n",
              "      <th></th>\n",
              "      <th></th>\n",
              "      <th></th>\n",
              "      <th></th>\n",
              "      <th></th>\n",
              "      <th></th>\n",
              "    </tr>\n",
              "  </thead>\n",
              "  <tbody>\n",
              "    <tr>\n",
              "      <th>0</th>\n",
              "      <td>6276</td>\n",
              "      <td>6276</td>\n",
              "      <td>6276</td>\n",
              "      <td>6276</td>\n",
              "      <td>6276</td>\n",
              "      <td>6276</td>\n",
              "      <td>6276</td>\n",
              "      <td>6276</td>\n",
              "      <td>6276</td>\n",
              "      <td>6276</td>\n",
              "      <td>6276</td>\n",
              "      <td>6276</td>\n",
              "      <td>6276</td>\n",
              "      <td>6276</td>\n",
              "      <td>6276</td>\n",
              "      <td>6276</td>\n",
              "      <td>6276</td>\n",
              "      <td>6276</td>\n",
              "      <td>6276</td>\n",
              "      <td>6276</td>\n",
              "    </tr>\n",
              "    <tr>\n",
              "      <th>Lyft</th>\n",
              "      <td>307408</td>\n",
              "      <td>307408</td>\n",
              "      <td>307408</td>\n",
              "      <td>307408</td>\n",
              "      <td>307408</td>\n",
              "      <td>307408</td>\n",
              "      <td>307408</td>\n",
              "      <td>307408</td>\n",
              "      <td>307408</td>\n",
              "      <td>307408</td>\n",
              "      <td>307408</td>\n",
              "      <td>307408</td>\n",
              "      <td>307408</td>\n",
              "      <td>307408</td>\n",
              "      <td>307408</td>\n",
              "      <td>307408</td>\n",
              "      <td>307408</td>\n",
              "      <td>307408</td>\n",
              "      <td>307408</td>\n",
              "      <td>307408</td>\n",
              "    </tr>\n",
              "    <tr>\n",
              "      <th>Uber</th>\n",
              "      <td>385663</td>\n",
              "      <td>385663</td>\n",
              "      <td>385663</td>\n",
              "      <td>385663</td>\n",
              "      <td>385663</td>\n",
              "      <td>385663</td>\n",
              "      <td>385663</td>\n",
              "      <td>385663</td>\n",
              "      <td>385663</td>\n",
              "      <td>385663</td>\n",
              "      <td>385663</td>\n",
              "      <td>385663</td>\n",
              "      <td>385663</td>\n",
              "      <td>385663</td>\n",
              "      <td>385663</td>\n",
              "      <td>385663</td>\n",
              "      <td>385663</td>\n",
              "      <td>385663</td>\n",
              "      <td>385663</td>\n",
              "      <td>385663</td>\n",
              "    </tr>\n",
              "  </tbody>\n",
              "</table>\n",
              "</div>"
            ],
            "text/plain": [
              "          distance  time_stamp  destination  ...  date_time     day    hour\n",
              "cab_type                                     ...                           \n",
              "0             6276        6276         6276  ...       6276    6276    6276\n",
              "Lyft        307408      307408       307408  ...     307408  307408  307408\n",
              "Uber        385663      385663       385663  ...     385663  385663  385663\n",
              "\n",
              "[3 rows x 20 columns]"
            ]
          },
          "metadata": {
            "tags": []
          },
          "execution_count": 41
        }
      ]
    },
    {
      "cell_type": "code",
      "metadata": {
        "colab": {
          "base_uri": "https://localhost:8080/",
          "height": 405
        },
        "id": "XHDx8I-P3Kaj",
        "outputId": "ca24374c-b4e4-4cde-d518-1d3da688e218"
      },
      "source": [
        "a.groupby('cab_type').count().plot.bar()"
      ],
      "execution_count": null,
      "outputs": [
        {
          "output_type": "execute_result",
          "data": {
            "text/plain": [
              "<matplotlib.axes._subplots.AxesSubplot at 0x7f60e6c44a50>"
            ]
          },
          "metadata": {
            "tags": []
          },
          "execution_count": 45
        },
        {
          "output_type": "display_data",
          "data": {
            "image/png": "[encoded data removed]",
            "text/plain": [
              "<Figure size 432x288 with 1 Axes>"
            ]
          },
          "metadata": {
            "tags": [],
            "needs_background": "light"
          }
        }
      ]
    },
    {
      "cell_type": "code",
      "metadata": {
        "colab": {
          "base_uri": "https://localhost:8080/",
          "height": 329
        },
        "id": "Bo1zJvZt4kCb",
        "outputId": "0c8062fd-fdb7-4e5d-e85d-00a17203fb1a"
      },
      "source": [
        "a['price'].value_counts().plot.bar(figsize=(100,30))  #flaxuation of price"
      ],
      "execution_count": null,
      "outputs": [
        {
          "output_type": "execute_result",
          "data": {
            "text/plain": [
              "<matplotlib.axes._subplots.AxesSubplot at 0x7f9ae5926fd0>"
            ]
          },
          "metadata": {
            "tags": []
          },
          "execution_count": 18
        },
        {
          "output_type": "display_data",
          "data": {
            "image/png": "[encoded data removed]",
            "text/plain": [
              "<Figure size 7200x2160 with 1 Axes>"
            ]
          },
          "metadata": {
            "tags": [],
            "needs_background": "light"
          }
        }
      ]
    },
    {
      "cell_type": "code",
      "metadata": {
        "colab": {
          "base_uri": "https://localhost:8080/",
          "height": 342
        },
        "id": "upeqSsv04GzL",
        "outputId": "40bf7d73-4a8a-4df7-dc14-779aed404782"
      },
      "source": [
        "#to find the peek hour for cab\n",
        "\n",
        "a['hour'].value_counts().plot.bar(figsize=(10,5),color='g')"
      ],
      "execution_count": null,
      "outputs": [
        {
          "output_type": "execute_result",
          "data": {
            "text/plain": [
              "<matplotlib.axes._subplots.AxesSubplot at 0x7f9ae6a3ff10>"
            ]
          },
          "metadata": {
            "tags": []
          },
          "execution_count": 22
        },
        {
          "output_type": "display_data",
          "data": {
            "image/png": "[encoded data removed]",
            "text/plain": [
              "<Figure size 720x360 with 1 Axes>"
            ]
          },
          "metadata": {
            "tags": [],
            "needs_background": "light"
          }
        }
      ]
    },
    {
      "cell_type": "code",
      "metadata": {
        "colab": {
          "base_uri": "https://localhost:8080/",
          "height": 265
        },
        "id": "dxOebq0X-G29",
        "outputId": "548003b7-d149-46f2-8766-eedf8fa2f151"
      },
      "source": [
        "import matplotlib.pyplot as plt\n",
        "x=a['hour']\n",
        "y=a['price']\n",
        "plt.plot(x,y)\n",
        "plt.show()"
      ],
      "execution_count": null,
      "outputs": [
        {
          "output_type": "display_data",
          "data": {
            "image/png": "[encoded data removed]",
            "text/plain": [
              "<Figure size 432x288 with 1 Axes>"
            ]
          },
          "metadata": {
            "tags": [],
            "needs_background": "light"
          }
        }
      ]
    },
    {
      "cell_type": "code",
      "metadata": {
        "colab": {
          "base_uri": "https://localhost:8080/",
          "height": 265
        },
        "id": "JUKa23n2_Lmg",
        "outputId": "7a3e84a5-a285-484b-ee0e-17abf0eb6be5"
      },
      "source": [
        "x=a['rain']\n",
        "y=a['price']\n",
        "plt.plot(x,y)\n",
        "plt.show()"
      ],
      "execution_count": null,
      "outputs": [
        {
          "output_type": "display_data",
          "data": {
            "image/png": "[encoded data removed]",
            "text/plain": [
              "<Figure size 432x288 with 1 Axes>"
            ]
          },
          "metadata": {
            "tags": [],
            "needs_background": "light"
          }
        }
      ]
    },
    {
      "cell_type": "code",
      "metadata": {
        "id": "kzfASjPRAJHb"
      },
      "source": [
        "#DATA MODELING"
      ],
      "execution_count": null,
      "outputs": []
    },
    {
      "cell_type": "code",
      "metadata": {
        "colab": {
          "base_uri": "https://localhost:8080/"
        },
        "id": "HXpmG_p8AQIM",
        "outputId": "8c74ec01-fd1b-490f-dfc8-df3d0e723f5e"
      },
      "source": [
        "a.columns"
      ],
      "execution_count": null,
      "outputs": [
        {
          "output_type": "execute_result",
          "data": {
            "text/plain": [
              "Index(['distance', 'cab_type', 'time_stamp', 'destination', 'source', 'price',\n",
              "       'surge_multiplier', 'id', 'product_id', 'name', 'datetime', 'temp',\n",
              "       'location', 'clouds', 'pressure', 'rain', 'humidity', 'wind',\n",
              "       'date_time', 'day', 'hour'],\n",
              "      dtype='object')"
            ]
          },
          "metadata": {
            "tags": []
          },
          "execution_count": 26
        }
      ]
    },
    {
      "cell_type": "code",
      "metadata": {
        "id": "AvF2btHrAVuB"
      },
      "source": [
        "#x1 main attributes to train data model(x1=training data)\n",
        "x1=a[['distance','temp','pressure','humidity','wind','rain','day','hour','surge_multiplier','clouds']]\n",
        "#(y1=label data)\n",
        "y1=a['price']\n"
      ],
      "execution_count": null,
      "outputs": []
    },
    {
      "cell_type": "code",
      "metadata": {
        "id": "F9t3R6lzAWRS"
      },
      "source": [
        "#using skicit-learn to split data into training and testing sets\n",
        "from sklearn.model_selection import train_test_split\n",
        "#split the data into training and testing sets\n",
        "x_train,y_train,x_test,y_test = train_test_split(x1,y1,test_size=0.25,random_state =42)"
      ],
      "execution_count": null,
      "outputs": []
    },
    {
      "cell_type": "code",
      "metadata": {
        "colab": {
          "base_uri": "https://localhost:8080/"
        },
        "id": "RATYf58TEfM4",
        "outputId": "719a5271-7461-479d-82a6-c439d0d63971"
      },
      "source": [
        "linear=LinearRegression()\n",
        "linear.fit(x_train,x_test)   #x_train=attributes(train data) y= price(label data)"
      ],
      "execution_count": null,
      "outputs": [
        {
          "output_type": "execute_result",
          "data": {
            "text/plain": [
              "LinearRegression(copy_X=True, fit_intercept=True, n_jobs=None, normalize=False)"
            ]
          },
          "metadata": {
            "tags": []
          },
          "execution_count": 29
        }
      ]
    },
    {
      "cell_type": "code",
      "metadata": {
        "colab": {
          "base_uri": "https://localhost:8080/"
        },
        "id": "26smAasTFAIi",
        "outputId": "bd93f263-c70e-44d8-8fe2-08cdc7999327"
      },
      "source": [
        "predictions= linear.predict(y_train)\n",
        "predictions     #predicted value"
      ],
      "execution_count": null,
      "outputs": [
        {
          "output_type": "execute_result",
          "data": {
            "text/plain": [
              "array([32.5479163 , 14.7556079 , 16.81696887, ..., 11.82898386,\n",
              "       11.85443274, 13.22867338])"
            ]
          },
          "metadata": {
            "tags": []
          },
          "execution_count": 30
        }
      ]
    },
    {
      "cell_type": "code",
      "metadata": {
        "colab": {
          "base_uri": "https://localhost:8080/",
          "height": 419
        },
        "id": "WDknPtArFNDs",
        "outputId": "b921835a-4f7f-417b-9b5d-3ce978f778a0"
      },
      "source": [
        "df=pd.DataFrame({'Actual':y_test,'predicted':predictions})\n",
        "df"
      ],
      "execution_count": null,
      "outputs": [
        {
          "output_type": "execute_result",
          "data": {
            "text/html": [
              "<div>\n",
              "<style scoped>\n",
              "    .dataframe tbody tr th:only-of-type {\n",
              "        vertical-align: middle;\n",
              "    }\n",
              "\n",
              "    .dataframe tbody tr th {\n",
              "        vertical-align: top;\n",
              "    }\n",
              "\n",
              "    .dataframe thead th {\n",
              "        text-align: right;\n",
              "    }\n",
              "</style>\n",
              "<table border=\"1\" class=\"dataframe\">\n",
              "  <thead>\n",
              "    <tr style=\"text-align: right;\">\n",
              "      <th></th>\n",
              "      <th>Actual</th>\n",
              "      <th>predicted</th>\n",
              "    </tr>\n",
              "  </thead>\n",
              "  <tbody>\n",
              "    <tr>\n",
              "      <th>81607</th>\n",
              "      <td>42.5</td>\n",
              "      <td>32.547916</td>\n",
              "    </tr>\n",
              "    <tr>\n",
              "      <th>354</th>\n",
              "      <td>0.0</td>\n",
              "      <td>14.755608</td>\n",
              "    </tr>\n",
              "    <tr>\n",
              "      <th>471801</th>\n",
              "      <td>32.5</td>\n",
              "      <td>16.816969</td>\n",
              "    </tr>\n",
              "    <tr>\n",
              "      <th>407645</th>\n",
              "      <td>27.5</td>\n",
              "      <td>10.480192</td>\n",
              "    </tr>\n",
              "    <tr>\n",
              "      <th>474760</th>\n",
              "      <td>27.5</td>\n",
              "      <td>10.556539</td>\n",
              "    </tr>\n",
              "    <tr>\n",
              "      <th>...</th>\n",
              "      <td>...</td>\n",
              "      <td>...</td>\n",
              "    </tr>\n",
              "    <tr>\n",
              "      <th>538489</th>\n",
              "      <td>7.5</td>\n",
              "      <td>10.709232</td>\n",
              "    </tr>\n",
              "    <tr>\n",
              "      <th>579511</th>\n",
              "      <td>13.5</td>\n",
              "      <td>15.519075</td>\n",
              "    </tr>\n",
              "    <tr>\n",
              "      <th>5421</th>\n",
              "      <td>9.0</td>\n",
              "      <td>11.828984</td>\n",
              "    </tr>\n",
              "    <tr>\n",
              "      <th>279982</th>\n",
              "      <td>8.0</td>\n",
              "      <td>11.854433</td>\n",
              "    </tr>\n",
              "    <tr>\n",
              "      <th>236315</th>\n",
              "      <td>27.5</td>\n",
              "      <td>13.228673</td>\n",
              "    </tr>\n",
              "  </tbody>\n",
              "</table>\n",
              "<p>174837 rows × 2 columns</p>\n",
              "</div>"
            ],
            "text/plain": [
              "        Actual  predicted\n",
              "81607     42.5  32.547916\n",
              "354        0.0  14.755608\n",
              "471801    32.5  16.816969\n",
              "407645    27.5  10.480192\n",
              "474760    27.5  10.556539\n",
              "...        ...        ...\n",
              "538489     7.5  10.709232\n",
              "579511    13.5  15.519075\n",
              "5421       9.0  11.828984\n",
              "279982     8.0  11.854433\n",
              "236315    27.5  13.228673\n",
              "\n",
              "[174837 rows x 2 columns]"
            ]
          },
          "metadata": {
            "tags": []
          },
          "execution_count": 31
        }
      ]
    },
    {
      "cell_type": "code",
      "metadata": {
        "id": "9_7vqnYoFu-T"
      },
      "source": [
        "#DATA VISUALIZATION"
      ],
      "execution_count": null,
      "outputs": []
    },
    {
      "cell_type": "code",
      "metadata": {
        "colab": {
          "base_uri": "https://localhost:8080/",
          "height": 400
        },
        "id": "4w5fHk3nGDKp",
        "outputId": "9b9d30c3-1867-44e8-ff13-605d524db539"
      },
      "source": [
        "df1 = df.head(25)\n",
        "df1.plot.bar(figsize=(26,10))\n",
        "plt.grid(which='major',linestyle='-',linewidth='0.5',color='green')\n",
        "plt.grid(which='minor',linestyle=':',linewidth='0.5',color='black')\n",
        "plt.show()"
      ],
      "execution_count": null,
      "outputs": [
        {
          "output_type": "display_data",
          "data": {
            "image/png": "[encoded data removed]",
            "text/plain": [
              "<Figure size 1872x720 with 1 Axes>"
            ]
          },
          "metadata": {
            "tags": [],
            "needs_background": "light"
          }
        }
      ]
    }
  ]
}